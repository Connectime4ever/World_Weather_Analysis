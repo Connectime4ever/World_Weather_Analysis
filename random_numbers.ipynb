{
 "cells": [
  {
   "cell_type": "code",
   "execution_count": 1,
   "id": "5cda6b9b-6363-47b0-91b2-6b207f38fa8d",
   "metadata": {},
   "outputs": [],
   "source": [
    "# Import the random module\n",
    "import random"
   ]
  },
  {
   "cell_type": "code",
   "execution_count": 2,
   "id": "b00269ee-a7d0-47d4-9581-640c9e70a815",
   "metadata": {},
   "outputs": [
    {
     "data": {
      "text/plain": [
       "78"
      ]
     },
     "execution_count": 2,
     "metadata": {},
     "output_type": "execute_result"
    }
   ],
   "source": [
    "random.randint(-90,90)"
   ]
  },
  {
   "cell_type": "markdown",
   "id": "5c91f997-a4f4-41db-963a-f48d74dbaaed",
   "metadata": {},
   "source": [
    "### The random function returns a floating-point decimal number between 0 and 1.0"
   ]
  },
  {
   "cell_type": "code",
   "execution_count": 3,
   "id": "930e512d-dcbe-4b44-8ac2-ab1d5453fb11",
   "metadata": {},
   "outputs": [
    {
     "data": {
      "text/plain": [
       "0.1262985816029888"
      ]
     },
     "execution_count": 3,
     "metadata": {},
     "output_type": "execute_result"
    }
   ],
   "source": [
    "random.random()"
   ]
  },
  {
   "cell_type": "code",
   "execution_count": 5,
   "id": "2a80cca5-3a69-4371-bb38-b9b8fa0ad552",
   "metadata": {},
   "outputs": [
    {
     "data": {
      "text/plain": [
       "19.77839066892408"
      ]
     },
     "execution_count": 5,
     "metadata": {},
     "output_type": "execute_result"
    }
   ],
   "source": [
    "random_number = random.randint(-90,89) + random.random()\n",
    "random_number"
   ]
  },
  {
   "cell_type": "code",
   "execution_count": 11,
   "id": "8d8068b4-1471-478e-ac20-367d508d7771",
   "metadata": {},
   "outputs": [
    {
     "data": {
      "text/plain": [
       "[-72.7117880469672,\n",
       " 19.755958525347307,\n",
       " 2.202771562807164,\n",
       " 11.64192468586128,\n",
       " -74.90646245396198,\n",
       " 49.86205368915395,\n",
       " 13.684654974269007,\n",
       " -38.65155863549914,\n",
       " 81.5912076971667,\n",
       " -54.493593377569844]"
      ]
     },
     "execution_count": 11,
     "metadata": {},
     "output_type": "execute_result"
    }
   ],
   "source": [
    "x = 1\n",
    "latitudes = []\n",
    "while x < 11:\n",
    "    random_lat = random.randint(-90,89) + random.random()\n",
    "    latitudes.append(random_lat)\n",
    "    x += 1\n",
    "latitudes"
   ]
  },
  {
   "cell_type": "markdown",
   "id": "a420ac6e-02ef-4b78-8834-e60dc0994adf",
   "metadata": {},
   "source": [
    "### For the randrange() function, there is an option to add a step parameter and set it equal to an integer, which will generate increments of a given integer value, from the lower to the upper limit."
   ]
  },
  {
   "cell_type": "code",
   "execution_count": 12,
   "id": "9aecb7e5-d275-4999-a600-6c6417c4770c",
   "metadata": {},
   "outputs": [
    {
     "data": {
      "text/plain": [
       "-67"
      ]
     },
     "execution_count": 12,
     "metadata": {},
     "output_type": "execute_result"
    }
   ],
   "source": [
    "random.randrange(-90,90, step=1)"
   ]
  },
  {
   "cell_type": "code",
   "execution_count": 13,
   "id": "4f7fe52a-4a80-4213-97e7-db62f703c667",
   "metadata": {},
   "outputs": [
    {
     "data": {
      "text/plain": [
       "75"
      ]
     },
     "execution_count": 13,
     "metadata": {},
     "output_type": "execute_result"
    }
   ],
   "source": [
    "random.randrange(-90,90, step=3)"
   ]
  },
  {
   "cell_type": "code",
   "execution_count": 14,
   "id": "4bee359a-a83a-4a66-b74a-0f77c2fb8ed0",
   "metadata": {},
   "outputs": [
    {
     "data": {
      "text/plain": [
       "11.5052250818554"
      ]
     },
     "execution_count": 14,
     "metadata": {},
     "output_type": "execute_result"
    }
   ],
   "source": [
    "random.uniform(-90, 90)"
   ]
  },
  {
   "cell_type": "markdown",
   "id": "d6f77bb2-5870-4448-9d93-dfc315ba41f0",
   "metadata": {},
   "source": [
    "### NumPy module is a numerical mathematics library that can be used to make arrays or matrices of numbers"
   ]
  },
  {
   "cell_type": "code",
   "execution_count": 15,
   "id": "54750c5a-544b-4aec-b095-ab63bae045ae",
   "metadata": {},
   "outputs": [],
   "source": [
    "# Import the NumPy module.\n",
    "import numpy as np"
   ]
  },
  {
   "cell_type": "markdown",
   "id": "fbfbe974-8ce6-42a6-8e56-15deb1fe9c59",
   "metadata": {},
   "source": [
    "### Numpy module has a built-in random module, and supplements the built-in Python random module. There is no need to import the random module if we import the NumPy module, as it's redundant. "
   ]
  },
  {
   "cell_type": "code",
   "execution_count": 16,
   "id": "d1e50923-9a37-4fd3-868d-82f5fe3e59c5",
   "metadata": {},
   "outputs": [
    {
     "data": {
      "text/plain": [
       "2.766625424943456"
      ]
     },
     "execution_count": 16,
     "metadata": {},
     "output_type": "execute_result"
    }
   ],
   "source": [
    "np.random.uniform(-90.000,90.000)"
   ]
  },
  {
   "cell_type": "markdown",
   "id": "fca08ef3-ba91-4ef0-b30f-3e06fb38a4ca",
   "metadata": {},
   "source": [
    "### timeit is a magic command"
   ]
  },
  {
   "cell_type": "code",
   "execution_count": 18,
   "id": "bb2560c5-54f7-4931-bbc2-7672dba2b2b8",
   "metadata": {},
   "outputs": [],
   "source": [
    "# Import timeit.\n",
    "import timeit"
   ]
  },
  {
   "cell_type": "code",
   "execution_count": 19,
   "id": "7aa7c4fe-3f38-4079-ab74-8486dbf25fef",
   "metadata": {},
   "outputs": [
    {
     "name": "stdout",
     "output_type": "stream",
     "text": [
      "10.4 µs ± 377 ns per loop (mean ± std. dev. of 7 runs, 100000 loops each)\n"
     ]
    }
   ],
   "source": [
    "%timeit np.random.uniform(-90.000, 90.000, size=1500)"
   ]
  },
  {
   "cell_type": "markdown",
   "id": "5db9249c-a13c-4a28-8e0b-67dbb694d6b1",
   "metadata": {},
   "source": [
    "### When we run the previous cell, the output is the amount of time it took to run the code for 7 runs and 1000 loops per run"
   ]
  },
  {
   "cell_type": "code",
   "execution_count": 21,
   "id": "79f7c708-487a-49cc-b0bf-2ba082a4e280",
   "metadata": {},
   "outputs": [
    {
     "name": "stdout",
     "output_type": "stream",
     "text": [
      "1.3 ms ± 42.7 µs per loop (mean ± std. dev. of 7 runs, 1000 loops each)\n"
     ]
    }
   ],
   "source": [
    "def latitudes(size):\n",
    "    latitudes = []\n",
    "    x=0\n",
    "    while x < (size):\n",
    "        random_lat = random.randint(-90,90) + random.random()\n",
    "        latitudes.append(random_lat)\n",
    "        x += 1\n",
    "    return latitudes\n",
    "\n",
    "# Call the function with 1500\n",
    "%timeit latitudes(1500)\n",
    "        "
   ]
  },
  {
   "cell_type": "code",
   "execution_count": 23,
   "id": "83dfe13d-8ed1-4f08-b79c-d725c2513ed6",
   "metadata": {},
   "outputs": [],
   "source": [
    "# Import the dependencies\n",
    "import pandas as pd\n",
    "import matplotlib.pyplot as plt\n",
    "import numpy as np"
   ]
  },
  {
   "cell_type": "code",
   "execution_count": 24,
   "id": "411e2658-fced-41a6-b029-73863642c97b",
   "metadata": {},
   "outputs": [
    {
     "data": {
      "text/plain": [
       "<zip at 0x216705b0f48>"
      ]
     },
     "execution_count": 24,
     "metadata": {},
     "output_type": "execute_result"
    }
   ],
   "source": [
    "# Create a set of random latitude and longitude combinations.\n",
    "lats = np.random.uniform(low=-90.000, high=90.000, size=1500)\n",
    "lngs = np.random.uniform(low=-180.000, high=180.000, size=1500)\n",
    "lat_lngs = zip(lats, lngs)\n",
    "lat_lngs"
   ]
  },
  {
   "cell_type": "code",
   "execution_count": null,
   "id": "2fe804ca-a04d-4c58-8393-d0844c84b477",
   "metadata": {},
   "outputs": [],
   "source": []
  }
 ],
 "metadata": {
  "kernelspec": {
   "display_name": "PythonData",
   "language": "python",
   "name": "pythondata"
  },
  "language_info": {
   "codemirror_mode": {
    "name": "ipython",
    "version": 3
   },
   "file_extension": ".py",
   "mimetype": "text/x-python",
   "name": "python",
   "nbconvert_exporter": "python",
   "pygments_lexer": "ipython3",
   "version": "3.7.13"
  }
 },
 "nbformat": 4,
 "nbformat_minor": 5
}
